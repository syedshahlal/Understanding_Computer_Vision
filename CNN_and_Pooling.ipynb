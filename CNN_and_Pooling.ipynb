{
  "nbformat": 4,
  "nbformat_minor": 0,
  "metadata": {
    "colab": {
      "provenance": [],
      "authorship_tag": "ABX9TyPlKRSvRZf+nCKfBY/3ZRBQ",
      "include_colab_link": true
    },
    "kernelspec": {
      "name": "python3",
      "display_name": "Python 3"
    },
    "language_info": {
      "name": "python"
    }
  },
  "cells": [
    {
      "cell_type": "markdown",
      "metadata": {
        "id": "view-in-github",
        "colab_type": "text"
      },
      "source": [
        "<a href=\"https://colab.research.google.com/github/syedshahlal/Understanding_Computer_Vision/blob/main/CNN_and_Pooling.ipynb\" target=\"_parent\"><img src=\"https://colab.research.google.com/assets/colab-badge.svg\" alt=\"Open In Colab\"/></a>"
      ]
    },
    {
      "cell_type": "code",
      "execution_count": 2,
      "metadata": {
        "id": "0KeTMKVgrvJt"
      },
      "outputs": [],
      "source": [
        "import tensorflow as tf\n",
        "import numpy as np\n",
        "import matplotlib.pyplot as plt\n",
        "import cv2"
      ]
    },
    {
      "cell_type": "code",
      "source": [
        "path = '/content/car1.jpeg'"
      ],
      "metadata": {
        "id": "PY751BqtsOXS"
      },
      "execution_count": 4,
      "outputs": []
    },
    {
      "cell_type": "code",
      "source": [
        "def read_img(path, grayscale=True):\n",
        "  img = cv2.imread(path)\n",
        "  if grayscale:\n",
        "    img = cv2.cvtColor(img, cv2.COLOR_BGR2GRAY)\n",
        "    plt.imshow(img, cmap=\"gray\")\n",
        "    return img\n",
        "  try:\n",
        "    cv2.imshow(\"display\", img) # This works on your local PC\n",
        "    return img\n",
        "  except Exception as e:\n",
        "    print(e)\n",
        "    from google.colab.patches import cv2_imshow # This is on your colab\n",
        "    cv2_imshow(img)\n",
        "    return img"
      ],
      "metadata": {
        "id": "cBWE3qiBvpn0"
      },
      "execution_count": 5,
      "outputs": []
    },
    {
      "cell_type": "code",
      "source": [],
      "metadata": {
        "id": "VsMjmdD5w8xk"
      },
      "execution_count": null,
      "outputs": []
    }
  ]
}